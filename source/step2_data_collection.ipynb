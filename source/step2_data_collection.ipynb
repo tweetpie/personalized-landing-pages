{
 "cells": [
  {
   "cell_type": "markdown",
   "source": [
    "### ❗IMPORTANT: Twitter / X has deprecated the API used in this notebook for free access. This notebook is no longer functional.\n",
    "For more detailed information, please refer to the following links about the decision to deprecate the API:\n",
    "[Twitter Post](https://twitter.com/XDevelopers/status/1649191521323995138)\n",
    "[Twitter Community Discussion](https://twittercommunity.com/t/deprecation-of-legacy-access-tiers-in-the-twitter-api/196162)\n",
    "and the following open letter:\n",
    "[Open letter with the  Coalition for Independent Technology Research](https://independenttechresearch.org/letter-twitters-new-api-plans-will-devastate-public-interest-research)\n",
    "\n",
    "You need to subscribe elevated or enterprise access to Twitter API to access tweets."
   ],
   "metadata": {
    "collapsed": false
   },
   "id": "2e233874318fee0d"
  },
  {
   "cell_type": "code",
   "execution_count": null,
   "id": "initial_id",
   "metadata": {
    "collapsed": true
   },
   "outputs": [],
   "source": [
    "import pandas as pd\n",
    "import tweepy"
   ]
  },
  {
   "cell_type": "markdown",
   "source": [],
   "metadata": {
    "collapsed": false
   },
   "id": "60a6322e902a0d30"
  },
  {
   "cell_type": "code",
   "execution_count": null,
   "outputs": [],
   "source": [
    "keywords_df = pd.read_csv('../data/intermediate/input/step_2_twitter_keywords.csv')\n",
    "included_keywords = keywords_df[keywords_df['is_keyword'] == 1]['keyword'].tolist()\n",
    "crawled_tweets = []"
   ],
   "metadata": {
    "collapsed": false
   },
   "id": "7427133f517d0c7b"
  },
  {
   "cell_type": "code",
   "execution_count": null,
   "outputs": [],
   "source": [
    "# Your app's bearer token can be found under the Authentication Tokens section\n",
    "# of the Keys and Tokens tab of your app, under the\n",
    "# Twitter Developer Portal Projects & Apps page at\n",
    "# https://developer.twitter.com/en/portal/projects-and-apps\n",
    "bearer_token = \"\"\n",
    "\n",
    "# Your app's API/consumer key and secret can be found under the Consumer Keys\n",
    "# section of the Keys and Tokens tab of your app, under the\n",
    "# Twitter Developer Portal Projects & Apps page at\n",
    "# https://developer.twitter.com/en/portal/projects-and-apps\n",
    "consumer_key = \"\"\n",
    "consumer_secret = \"\"\n",
    "\n",
    "# Your account's (the app owner's account's) access token and secret for your\n",
    "# app can be found under the Authentication Tokens section of the\n",
    "# Keys and Tokens tab of your app, under the\n",
    "# Twitter Developer Portal Projects & Apps page at\n",
    "# https://developer.twitter.com/en/portal/projects-and-apps\n",
    "access_token = \"\"\n",
    "access_token_secret = \"\"\n",
    "\n",
    "# You can authenticate as your app with just your bearer token\n",
    "client = tweepy.Client(bearer_token=bearer_token)\n",
    "\n",
    "# You can provide the consumer key and secret with the access token and access\n",
    "# token secret to authenticate as a user\n",
    "client = tweepy.Client(\n",
    "    consumer_key=consumer_key, consumer_secret=consumer_secret,\n",
    "    access_token=access_token, access_token_secret=access_token_secret\n",
    ")"
   ],
   "metadata": {
    "collapsed": false
   },
   "id": "33d5ec255256190f"
  },
  {
   "cell_type": "markdown",
   "source": [],
   "metadata": {
    "collapsed": false
   },
   "id": "20cdaf287f438df2"
  },
  {
   "cell_type": "code",
   "execution_count": null,
   "outputs": [],
   "source": [
    "for keyword in included_keywords:\n",
    "    print(f'Crawling tweets for keyword: {keyword}')\n",
    "    tweets = client.search_recent_tweets(query=keyword, max_results=100)\n",
    "    crawled_tweets.extend(tweets)"
   ],
   "metadata": {
    "collapsed": false
   },
   "id": "8b6a9dcddc9c0c54"
  },
  {
   "cell_type": "code",
   "execution_count": null,
   "outputs": [],
   "source": [
    "crawled_tweets_df = pd.DataFrame(crawled_tweets)\n",
    "crawled_tweets_df.to_csv('../data/intermediate/output/step_2_crawled_tweets.csv', index=False)"
   ],
   "metadata": {
    "collapsed": false
   },
   "id": "2ebc0a6e4e45e7f0"
  }
 ],
 "metadata": {
  "kernelspec": {
   "display_name": "Python 3",
   "language": "python",
   "name": "python3"
  },
  "language_info": {
   "codemirror_mode": {
    "name": "ipython",
    "version": 2
   },
   "file_extension": ".py",
   "mimetype": "text/x-python",
   "name": "python",
   "nbconvert_exporter": "python",
   "pygments_lexer": "ipython2",
   "version": "2.7.6"
  }
 },
 "nbformat": 4,
 "nbformat_minor": 5
}
