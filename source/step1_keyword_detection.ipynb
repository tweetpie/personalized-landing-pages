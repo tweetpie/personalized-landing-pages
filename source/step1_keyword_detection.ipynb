{
 "cells": [
  {
   "cell_type": "markdown",
   "source": [
    "# Step1: Extracting Keywords from Facebook Posts\n",
    "\n",
    "In this section, we'll perform keyword extraction on a dataset of Facebook group posts. The steps include reading the data, preprocessing the content, and applying the YAKE (Yet Another Keyword Extractor) algorithm to extract keywords.\n",
    "\n",
    "### Process Overview\n",
    "- Start by loading the dataset from the CSV file `facebookgroups_posts.csv`.\n",
    "- The content of each post is preprocessed using the `preprocess_tweet` function.\n",
    "- The preprocessed content is then concatenated into a single document.\n",
    "- YAKE is applied to extract keywords from the concatenated document.\n",
    "- The extracted keywords are saved to a DataFrame and exported to a CSV file for further analysis.\n",
    "\n",
    "**Note**: The 'is_keyword' column in the resulting DataFrame is left blank and should be filled by domain experts based on their knowledge."
   ],
   "metadata": {
    "collapsed": false
   },
   "id": "9b6b6901c2686b4c"
  },
  {
   "cell_type": "code",
   "execution_count": null,
   "id": "initial_id",
   "metadata": {
    "collapsed": true
   },
   "outputs": [],
   "source": [
    "import pandas as pd\n",
    "import swifter\n",
    "from utils import preprocess_tweet\n",
    "import yake"
   ]
  },
  {
   "cell_type": "code",
   "execution_count": null,
   "outputs": [],
   "source": [
    "facebook_posts_df = pd.read_csv('../data/facebookgroups_posts.csv')"
   ],
   "metadata": {
    "collapsed": false
   },
   "id": "7427133f517d0c7b"
  },
  {
   "cell_type": "code",
   "execution_count": null,
   "outputs": [],
   "source": [
    "facebook_posts_df['processed_content'] = facebook_posts_df['content'].swifter.apply(preprocess_tweet)"
   ],
   "metadata": {
    "collapsed": false
   },
   "id": "33d5ec255256190f"
  },
  {
   "cell_type": "code",
   "execution_count": null,
   "outputs": [],
   "source": [
    "# apply yake\n",
    "concatted_doc = ' '.join(facebook_posts_df['processed_content'].tolist())\n",
    "yake_kw_extractor = yake.KeywordExtractor(n=3, top=2000)\n",
    "yake_keywords = yake_kw_extractor.extract_keywords(concatted_doc)"
   ],
   "metadata": {
    "collapsed": false
   },
   "id": "8b6a9dcddc9c0c54"
  },
  {
   "cell_type": "code",
   "execution_count": null,
   "outputs": [],
   "source": [
    "yake_keywords_df = pd.DataFrame(yake_keywords, columns=['keyword', 'score'])\n",
    "\n",
    "yake_keywords_df.to_csv('../data/intermediate/output/step_1_yake_keywords.csv', index=False)\n",
    "yake_keywords_df['is_keyword'] = None # column added to be filled by domain experts later\n",
    "yake_keywords_df.to_csv('../data/intermediate/input/step_2_twitter_keywords.csv', index=False)"
   ],
   "metadata": {
    "collapsed": false
   },
   "id": "2ebc0a6e4e45e7f0"
  }
 ],
 "metadata": {
  "kernelspec": {
   "display_name": "Python 3",
   "language": "python",
   "name": "python3"
  },
  "language_info": {
   "codemirror_mode": {
    "name": "ipython",
    "version": 2
   },
   "file_extension": ".py",
   "mimetype": "text/x-python",
   "name": "python",
   "nbconvert_exporter": "python",
   "pygments_lexer": "ipython2",
   "version": "2.7.6"
  }
 },
 "nbformat": 4,
 "nbformat_minor": 5
}
